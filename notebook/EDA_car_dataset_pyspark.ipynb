{
  "nbformat": 4,
  "nbformat_minor": 0,
  "metadata": {
    "colab": {
      "provenance": []
    },
    "kernelspec": {
      "name": "python3",
      "display_name": "Python 3"
    },
    "language_info": {
      "name": "python"
    }
  },
  "cells": [
    {
      "cell_type": "code",
      "source": [
        "!pip install --upgrade plotly"
      ],
      "metadata": {
        "colab": {
          "base_uri": "https://localhost:8080/"
        },
        "id": "1t4uersdCG-a",
        "outputId": "0a686a83-fa1a-401e-f8fa-5515aa127ab2"
      },
      "execution_count": null,
      "outputs": [
        {
          "output_type": "stream",
          "name": "stdout",
          "text": [
            "Looking in indexes: https://pypi.org/simple, https://us-python.pkg.dev/colab-wheels/public/simple/\n",
            "Requirement already satisfied: plotly in /usr/local/lib/python3.10/dist-packages (5.13.1)\n",
            "Collecting plotly\n",
            "  Downloading plotly-5.14.1-py2.py3-none-any.whl (15.3 MB)\n",
            "\u001b[2K     \u001b[90m━━━━━━━━━━━━━━━━━━━━━━━━━━━━━━━━━━━━━━━━\u001b[0m \u001b[32m15.3/15.3 MB\u001b[0m \u001b[31m53.6 MB/s\u001b[0m eta \u001b[36m0:00:00\u001b[0m\n",
            "\u001b[?25hRequirement already satisfied: tenacity>=6.2.0 in /usr/local/lib/python3.10/dist-packages (from plotly) (8.2.2)\n",
            "Requirement already satisfied: packaging in /usr/local/lib/python3.10/dist-packages (from plotly) (23.1)\n",
            "Installing collected packages: plotly\n",
            "  Attempting uninstall: plotly\n",
            "    Found existing installation: plotly 5.13.1\n",
            "    Uninstalling plotly-5.13.1:\n",
            "      Successfully uninstalled plotly-5.13.1\n",
            "Successfully installed plotly-5.14.1\n"
          ]
        }
      ]
    },
    {
      "cell_type": "code",
      "execution_count": null,
      "metadata": {
        "id": "coikgQygqXUy"
      },
      "outputs": [],
      "source": [
        "!apt-get install openjdk-8-jdk-headless -qq > /dev/null\n",
        "!wget -q http://archive.apache.org/dist/spark/spark-3.1.1/spark-3.1.1-bin-hadoop3.2.tgz\n",
        "!tar xf spark-3.1.1-bin-hadoop3.2.tgz\n",
        "!pip install -q findspark"
      ]
    },
    {
      "cell_type": "code",
      "source": [
        "import os\n",
        "os.environ[\"JAVA_HOME\"] = \"/usr/lib/jvm/java-8-openjdk-amd64\"\n",
        "os.environ[\"SPARK_HOME\"] = \"/content/spark-3.1.1-bin-hadoop3.2\""
      ],
      "metadata": {
        "id": "klYAreN8qaKB"
      },
      "execution_count": null,
      "outputs": []
    },
    {
      "cell_type": "code",
      "source": [
        "import findspark\n",
        "findspark.init()\n",
        "from pyspark.sql import SparkSession\n",
        "spark = SparkSession.builder.master(\"local[*]\").getOrCreate()\n",
        "spark.conf.set(\"spark.sql.repl.eagerEval.enabled\", True)"
      ],
      "metadata": {
        "id": "5a5B9fhgqaNR"
      },
      "execution_count": null,
      "outputs": []
    },
    {
      "cell_type": "code",
      "source": [
        "import plotly.graph_objects as go\n",
        "import plotly.express as px\n",
        "from pyspark.sql.functions import * \n",
        "from pyspark.sql.types import *"
      ],
      "metadata": {
        "id": "bsTylY8CCMso"
      },
      "execution_count": null,
      "outputs": []
    },
    {
      "cell_type": "code",
      "source": [
        "df = spark.read.csv('car_price_prediction.csv', header=True)\n",
        "df.show(5)"
      ],
      "metadata": {
        "colab": {
          "base_uri": "https://localhost:8080/"
        },
        "id": "tWw1pFSZqaTu",
        "outputId": "c21edb8e-e405-4f1a-f673-98a513022ae0"
      },
      "execution_count": null,
      "outputs": [
        {
          "output_type": "stream",
          "name": "stdout",
          "text": [
            "+--------+-----+----+------------+-------+----------+---------+----------------+---------+-------------+---------+---------+-------------+------------+------+----------------+------+-------+\n",
            "|      ID|Price|Levy|Manufacturer|  Model|Prod. year| Category|Leather interior|Fuel type|Engine volume|  Mileage|Cylinders|Gear box type|Drive wheels| Doors|           Wheel| Color|Airbags|\n",
            "+--------+-----+----+------------+-------+----------+---------+----------------+---------+-------------+---------+---------+-------------+------------+------+----------------+------+-------+\n",
            "|45654403|13328|1399|       LEXUS| RX 450|      2010|     Jeep|             Yes|   Hybrid|          3.5|186005 km|      6.0|    Automatic|         4x4|04-May|      Left wheel|Silver|     12|\n",
            "|44731507|16621|1018|   CHEVROLET|Equinox|      2011|     Jeep|              No|   Petrol|            3|192000 km|      6.0|    Tiptronic|         4x4|04-May|      Left wheel| Black|      8|\n",
            "|45774419| 8467|   -|       HONDA|    FIT|      2006|Hatchback|              No|   Petrol|          1.3|200000 km|      4.0|     Variator|       Front|04-May|Right-hand drive| Black|      2|\n",
            "|45769185| 3607| 862|        FORD| Escape|      2011|     Jeep|             Yes|   Hybrid|          2.5|168966 km|      4.0|    Automatic|         4x4|04-May|      Left wheel| White|      0|\n",
            "|45809263|11726| 446|       HONDA|    FIT|      2014|Hatchback|             Yes|   Petrol|          1.3| 91901 km|      4.0|    Automatic|       Front|04-May|      Left wheel|Silver|      4|\n",
            "+--------+-----+----+------------+-------+----------+---------+----------------+---------+-------------+---------+---------+-------------+------------+------+----------------+------+-------+\n",
            "only showing top 5 rows\n",
            "\n"
          ]
        }
      ]
    },
    {
      "cell_type": "code",
      "source": [
        "#dataframe structure\n",
        "df.printSchema()"
      ],
      "metadata": {
        "colab": {
          "base_uri": "https://localhost:8080/"
        },
        "id": "fjnbC2EPrGoe",
        "outputId": "a1bc2d53-fdee-4584-816c-fef4a8b4d8c9"
      },
      "execution_count": null,
      "outputs": [
        {
          "output_type": "stream",
          "name": "stdout",
          "text": [
            "root\n",
            " |-- ID: string (nullable = true)\n",
            " |-- Price: string (nullable = true)\n",
            " |-- Levy: string (nullable = true)\n",
            " |-- Manufacturer: string (nullable = true)\n",
            " |-- Model: string (nullable = true)\n",
            " |-- Prod. year: string (nullable = true)\n",
            " |-- Category: string (nullable = true)\n",
            " |-- Leather interior: string (nullable = true)\n",
            " |-- Fuel type: string (nullable = true)\n",
            " |-- Engine volume: string (nullable = true)\n",
            " |-- Mileage: string (nullable = true)\n",
            " |-- Cylinders: string (nullable = true)\n",
            " |-- Gear box type: string (nullable = true)\n",
            " |-- Drive wheels: string (nullable = true)\n",
            " |-- Doors: string (nullable = true)\n",
            " |-- Wheel: string (nullable = true)\n",
            " |-- Color: string (nullable = true)\n",
            " |-- Airbags: string (nullable = true)\n",
            "\n"
          ]
        }
      ]
    },
    {
      "cell_type": "code",
      "source": [
        "#Renaming Columns\n",
        "df = df.withColumnRenamed('Leather interior','Leather_interior')\n",
        "df = df.withColumnRenamed('Prod. year','Prod_year')"
      ],
      "metadata": {
        "id": "6UsgxCpDK6ZN"
      },
      "execution_count": null,
      "outputs": []
    },
    {
      "cell_type": "code",
      "source": [
        "#Number of duplicate data in dataset\n",
        "df.groupBy(\"Manufacturer\",\"Model\",\"Mileage\",\"Price\")\\\n",
        ".count()\\\n",
        ".filter(\"count > 1\")\\\n",
        ".sort(\"count\",ascending=False)\\\n",
        ".show(50)"
      ],
      "metadata": {
        "colab": {
          "base_uri": "https://localhost:8080/"
        },
        "id": "CqBOPiXw8T50",
        "outputId": "f153c925-7d16-444e-98b2-5ae6c9915637"
      },
      "execution_count": null,
      "outputs": [
        {
          "output_type": "stream",
          "name": "stdout",
          "text": [
            "+-------------+------+---------+-----+-----+\n",
            "| Manufacturer| Model|  Mileage|Price|count|\n",
            "+-------------+------+---------+-----+-----+\n",
            "|        HONDA|   FIT|     0 km|   30|   30|\n",
            "|       TOYOTA| Camry| 35058 km|18817|   24|\n",
            "|       TOYOTA| Camry|314373 km|  392|   23|\n",
            "|       TOYOTA| Camry|179381 km|11133|   23|\n",
            "|       TOYOTA| Camry|156518 km| 3607|   22|\n",
            "|       TOYOTA| Camry|190549 km| 5018|   22|\n",
            "|       TOYOTA| Camry|102397 km|  784|   22|\n",
            "|MERCEDES-BENZ| E 300| 26802 km|  314|   22|\n",
            "|       TOYOTA| Camry|398069 km| 1098|   21|\n",
            "|       TOYOTA| Camry|130478 km|  862|   20|\n",
            "|       TOYOTA| Camry|159379 km| 3136|   20|\n",
            "|MERCEDES-BENZ| E 350|189530 km|12388|   19|\n",
            "|       TOYOTA| Camry|109798 km| 5488|   18|\n",
            "|MERCEDES-BENZ| E 350|219030 km|29793|   17|\n",
            "|MERCEDES-BENZ| E 350|119379 km|16621|   17|\n",
            "|        LEXUS|GX 460|275240 km|15681|   17|\n",
            "|MERCEDES-BENZ| E 350|274771 km|  314|   17|\n",
            "|       TOYOTA| Camry|225510 km|  314|   17|\n",
            "|MERCEDES-BENZ| E 350|229904 km|  470|   17|\n",
            "|       TOYOTA| Camry|232032 km|  392|   17|\n",
            "|MERCEDES-BENZ| E 350|132630 km|  314|   16|\n",
            "|       TOYOTA| Camry|  9626 km| 3450|   16|\n",
            "|MERCEDES-BENZ| E 350|318285 km|  627|   16|\n",
            "|MERCEDES-BENZ| E 350|146395 km| 1882|   16|\n",
            "|       TOYOTA| Camry| 39552 km|  251|   16|\n",
            "|       TOYOTA| Camry|124912 km| 3763|   16|\n",
            "|       TOYOTA| Camry|127515 km| 9722|   15|\n",
            "|MERCEDES-BENZ| E 350|200179 km|30734|   15|\n",
            "|        LEXUS|RX 450|186005 km|13328|   15|\n",
            "|MERCEDES-BENZ| E 350|170429 km|15994|   15|\n",
            "|MERCEDES-BENZ| E 350|107800 km| 5802|   15|\n",
            "|        LEXUS|GX 470|218126 km|  282|   15|\n",
            "|MERCEDES-BENZ| E 350|128202 km| 4861|   15|\n",
            "|MERCEDES-BENZ| E 350|175614 km| 2430|   15|\n",
            "|        LEXUS|GX 460|102907 km|  706|   15|\n",
            "|        LEXUS|GX 470|202048 km|  392|   14|\n",
            "|MERCEDES-BENZ| E 350| 77205 km| 1568|   14|\n",
            "|MERCEDES-BENZ| E 350|149486 km|  314|   14|\n",
            "|       TOYOTA| Camry|115312 km|  706|   14|\n",
            "|        LEXUS|RX 450|317470 km|  220|   13|\n",
            "|        LEXUS|GX 460|260771 km|46728|   13|\n",
            "|        LEXUS|GX 470|263190 km|  862|   13|\n",
            "|MERCEDES-BENZ| E 350|273186 km| 9879|   13|\n",
            "|        LEXUS|RX 450|167222 km| 5018|   13|\n",
            "|        LEXUS|RX 450|382746 km|  314|   12|\n",
            "|MERCEDES-BENZ| E 300| 50930 km|22580|   12|\n",
            "|        LEXUS|GX 460|255406 km|54568|   12|\n",
            "|        LEXUS|RX 450|138038 km| 1019|   12|\n",
            "|        LEXUS|GX 460| 69918 km|  470|   12|\n",
            "|        LEXUS|GX 460|102907 km|  314|   12|\n",
            "+-------------+------+---------+-----+-----+\n",
            "only showing top 50 rows\n",
            "\n"
          ]
        }
      ]
    },
    {
      "cell_type": "code",
      "source": [
        "#removing Duplicate values\n",
        "df = df.dropDuplicates()"
      ],
      "metadata": {
        "id": "j2cJwOXV4cz4"
      },
      "execution_count": null,
      "outputs": []
    },
    {
      "cell_type": "code",
      "source": [
        "df = df.withColumn(\"Mileage_km\",regexp_replace(\"MIleage\",\"[a-z]\",\"\").alias(\"Mileage_km\").cast('int'))"
      ],
      "metadata": {
        "id": "5sO9Ly-lDflx"
      },
      "execution_count": null,
      "outputs": []
    },
    {
      "cell_type": "code",
      "source": [
        "#Dropping a column\n",
        "df = df.drop(\"ID\",\"Mileage\")"
      ],
      "metadata": {
        "id": "eu_HaNvbK6Tf"
      },
      "execution_count": null,
      "outputs": []
    },
    {
      "cell_type": "markdown",
      "source": [
        "# Different Manufacturer order by alphabatic order\n",
        " Note: sort() will sort the value in individual partition whereas orderBy does it in sigle one.\n",
        "\n",
        " "
      ],
      "metadata": {
        "id": "X9fTWlLy91lm"
      }
    },
    {
      "cell_type": "code",
      "source": [
        "df.select(\"Manufacturer\").distinct().orderBy(\"Manufacturer\").show(10)"
      ],
      "metadata": {
        "id": "LYwQPLlPrGrA",
        "colab": {
          "base_uri": "https://localhost:8080/"
        },
        "outputId": "e27296cd-a060-4694-b4f8-7df13d4e0020"
      },
      "execution_count": null,
      "outputs": [
        {
          "output_type": "stream",
          "name": "stdout",
          "text": [
            "+------------+\n",
            "|Manufacturer|\n",
            "+------------+\n",
            "|       ACURA|\n",
            "|  ALFA ROMEO|\n",
            "|ASTON MARTIN|\n",
            "|        AUDI|\n",
            "|     BENTLEY|\n",
            "|         BMW|\n",
            "|       BUICK|\n",
            "|    CADILLAC|\n",
            "|   CHEVROLET|\n",
            "|    CHRYSLER|\n",
            "+------------+\n",
            "only showing top 10 rows\n",
            "\n"
          ]
        }
      ]
    },
    {
      "cell_type": "code",
      "source": [
        "#top 10 manufacturer by count\n",
        "top_10_manufacturer = df.groupBy(\"Manufacturer\").count().orderBy(\"count\",ascending=False)\n",
        "top_10_manufacturer.show()"
      ],
      "metadata": {
        "id": "uLdSImp-rGue",
        "colab": {
          "base_uri": "https://localhost:8080/"
        },
        "outputId": "88147798-4ddb-429b-b2dc-902fb3d6cd46"
      },
      "execution_count": null,
      "outputs": [
        {
          "output_type": "stream",
          "name": "stdout",
          "text": [
            "+-------------+-----+\n",
            "| Manufacturer|count|\n",
            "+-------------+-----+\n",
            "|      HYUNDAI| 3729|\n",
            "|       TOYOTA| 3606|\n",
            "|MERCEDES-BENZ| 2043|\n",
            "|         FORD| 1088|\n",
            "|    CHEVROLET| 1047|\n",
            "|          BMW| 1036|\n",
            "|        HONDA|  960|\n",
            "|        LEXUS|  927|\n",
            "|       NISSAN|  645|\n",
            "|   VOLKSWAGEN|  571|\n",
            "|    SSANGYONG|  439|\n",
            "|          KIA|  417|\n",
            "|         OPEL|  396|\n",
            "|   MITSUBISHI|  288|\n",
            "|       SUBARU|  274|\n",
            "|         AUDI|  254|\n",
            "|        MAZDA|  175|\n",
            "|         JEEP|  138|\n",
            "|       DAEWOO|   91|\n",
            "|        DODGE|   90|\n",
            "+-------------+-----+\n",
            "only showing top 20 rows\n",
            "\n"
          ]
        }
      ]
    },
    {
      "cell_type": "markdown",
      "source": [
        "Count of different model each Manufacturer have in the dataset\n"
      ],
      "metadata": {
        "id": "nqU-vWuMG-4e"
      }
    },
    {
      "cell_type": "code",
      "source": [
        "#total number of cars dataset consists of for each model\n",
        "df.groupBy(\"Manufacturer\",\"Model\").count().orderBy(\"count\",ascending=False).show(10)"
      ],
      "metadata": {
        "colab": {
          "base_uri": "https://localhost:8080/"
        },
        "id": "_R28ZOh9CZSY",
        "outputId": "f0eef9bc-6611-4d57-d8cd-17b5ae253ec5"
      },
      "execution_count": null,
      "outputs": [
        {
          "output_type": "stream",
          "name": "stdout",
          "text": [
            "+-------------+--------+-----+\n",
            "| Manufacturer|   Model|count|\n",
            "+-------------+--------+-----+\n",
            "|       TOYOTA|   Prius| 1069|\n",
            "|      HYUNDAI|  Sonata| 1067|\n",
            "|       TOYOTA|   Camry|  929|\n",
            "|      HYUNDAI| Elantra|  910|\n",
            "|MERCEDES-BENZ|   E 350|  534|\n",
            "|      HYUNDAI|Santa FE|  527|\n",
            "|        HONDA|     FIT|  444|\n",
            "|      HYUNDAI|      H1|  435|\n",
            "|      HYUNDAI|  Tucson|  426|\n",
            "|          BMW|      X5|  351|\n",
            "+-------------+--------+-----+\n",
            "only showing top 10 rows\n",
            "\n"
          ]
        }
      ]
    },
    {
      "cell_type": "markdown",
      "source": [
        "## Different Models"
      ],
      "metadata": {
        "id": "AzQVCk_nlurZ"
      }
    },
    {
      "cell_type": "code",
      "source": [
        "#Unique models in the dataset\n",
        "df.select(\"Model\").distinct().show()"
      ],
      "metadata": {
        "colab": {
          "base_uri": "https://localhost:8080/"
        },
        "id": "b40SiunvI8ng",
        "outputId": "68f1161f-114d-464d-902b-5b7cc6ea0e28"
      },
      "execution_count": null,
      "outputs": [
        {
          "output_type": "stream",
          "name": "stdout",
          "text": [
            "+--------------------+\n",
            "|               Model|\n",
            "+--------------------+\n",
            "|           Optima ex|\n",
            "|                 MDX|\n",
            "|          Juke Turbo|\n",
            "|   535 comfort-sport|\n",
            "|       GL 350 დიზელი|\n",
            "|              Atenza|\n",
            "|            7.30E+34|\n",
            "|     Outlander სპორტ|\n",
            "|        XC90 3.2 AWD|\n",
            "|           FIT SPORT|\n",
            "|             GLA 250|\n",
            "|               Astra|\n",
            "|             Mazda 6|\n",
            "|               Verso|\n",
            "|Mazda 6 Grand tou...|\n",
            "|   CLK 320 avangarde|\n",
            "|            Zafira B|\n",
            "|          Malibu eco|\n",
            "|          FIT HIBRID|\n",
            "|             Korando|\n",
            "+--------------------+\n",
            "only showing top 20 rows\n",
            "\n"
          ]
        }
      ]
    },
    {
      "cell_type": "code",
      "source": [
        "# count of cars with differt fuel types ordered by the Manufacturer name\n",
        "df.groupBy(\"Manufacturer\",\"Fuel type\").count().orderBy(\"Manufacturer\").show(25)"
      ],
      "metadata": {
        "colab": {
          "base_uri": "https://localhost:8080/"
        },
        "id": "BBLz0Il1G8xp",
        "outputId": "66cb37f3-21af-4436-c333-f26ac4b12a4c"
      },
      "execution_count": null,
      "outputs": [
        {
          "output_type": "stream",
          "name": "stdout",
          "text": [
            "+------------+--------------+-----+\n",
            "|Manufacturer|     Fuel type|count|\n",
            "+------------+--------------+-----+\n",
            "|       ACURA|        Petrol|   15|\n",
            "|  ALFA ROMEO|        Petrol|    4|\n",
            "|ASTON MARTIN|        Petrol|    1|\n",
            "|        AUDI|        Diesel|   25|\n",
            "|        AUDI|           CNG|    2|\n",
            "|        AUDI|        Petrol|  225|\n",
            "|        AUDI|        Hybrid|    2|\n",
            "|     BENTLEY|        Petrol|    2|\n",
            "|         BMW|        Petrol|  715|\n",
            "|         BMW|           CNG|   33|\n",
            "|         BMW|        Diesel|  252|\n",
            "|         BMW|Plug-in Hybrid|    1|\n",
            "|         BMW|           LPG|   26|\n",
            "|         BMW|        Hybrid|    9|\n",
            "|       BUICK|        Petrol|   16|\n",
            "|    CADILLAC|        Petrol|   12|\n",
            "|    CADILLAC|           CNG|    1|\n",
            "|    CADILLAC|           LPG|    1|\n",
            "|   CHEVROLET|        Diesel|  267|\n",
            "|   CHEVROLET|        Petrol|  614|\n",
            "|   CHEVROLET|        Hybrid|  104|\n",
            "|   CHEVROLET|Plug-in Hybrid|   45|\n",
            "|   CHEVROLET|           LPG|   17|\n",
            "|    CHRYSLER|           LPG|    1|\n",
            "|    CHRYSLER|        Petrol|   25|\n",
            "+------------+--------------+-----+\n",
            "only showing top 25 rows\n",
            "\n"
          ]
        }
      ]
    },
    {
      "cell_type": "code",
      "source": [
        "#Average price of top 20 car of different Manufacturer ordered by the Average price \n",
        "df.groupBy(\"Manufacturer\").agg(avg(\"Price\").alias(\"Average Price\")).orderBy(\"Average Price\",ascending=False).show(20)"
      ],
      "metadata": {
        "colab": {
          "base_uri": "https://localhost:8080/"
        },
        "id": "D01he48AG805",
        "outputId": "60cf7181-904d-4a12-f82a-9f3febeea27a"
      },
      "execution_count": null,
      "outputs": [
        {
          "output_type": "stream",
          "name": "stdout",
          "text": [
            "+-------------+------------------+\n",
            "| Manufacturer|     Average Price|\n",
            "+-------------+------------------+\n",
            "|  LAMBORGHINI|          872946.0|\n",
            "|      BENTLEY|          197574.5|\n",
            "|         OPEL| 73474.89393939394|\n",
            "|      FERRARI|           66955.5|\n",
            "|   LAND ROVER|        54807.1875|\n",
            "| ASTON MARTIN|           54000.0|\n",
            "|        TESLA|           53941.0|\n",
            "|      PORSCHE|48406.692307692305|\n",
            "|       JAGUAR| 34408.78571428572|\n",
            "|       HUMMER|           31210.6|\n",
            "|    SSANGYONG|30921.858769931663|\n",
            "|         JEEP|25409.427536231884|\n",
            "|      HYUNDAI| 22306.00080450523|\n",
            "|          BMW|20609.468146718147|\n",
            "|     MASERATI|           20149.5|\n",
            "|        LEXUS|20052.594390507013|\n",
            "|MERCEDES-BENZ|18590.331375428294|\n",
            "|     INFINITI| 17992.30769230769|\n",
            "|         MINI| 17481.76595744681|\n",
            "|         სხვა|           17248.5|\n",
            "+-------------+------------------+\n",
            "only showing top 20 rows\n",
            "\n"
          ]
        }
      ]
    },
    {
      "cell_type": "code",
      "source": [
        "#Price of a car with leather Interior\n",
        "df.select(\"Manufacturer\",\"Model\",\"Price\").filter(\"Leather_interior == 'Yes'\").show()"
      ],
      "metadata": {
        "id": "xh9Z2XEhK6WW",
        "colab": {
          "base_uri": "https://localhost:8080/"
        },
        "outputId": "d091ccef-e5e0-4195-e988-9dcf3d4fa92a"
      },
      "execution_count": null,
      "outputs": [
        {
          "output_type": "stream",
          "name": "stdout",
          "text": [
            "+-------------+----------+-----+\n",
            "| Manufacturer|     Model|Price|\n",
            "+-------------+----------+-----+\n",
            "|      HYUNDAI|  Santa FE|36065|\n",
            "|        HONDA|       FIT|10663|\n",
            "|       TOYOTA|      Aqua|25669|\n",
            "|         AUDI|A3 PREMIUM|33243|\n",
            "|      HYUNDAI|    Sonata|64463|\n",
            "|      LINCOLN|  Town Car|30420|\n",
            "|MERCEDES-BENZ|     C 230| 7213|\n",
            "|        LEXUS|    RX 450| 1019|\n",
            "|      HYUNDAI|    Sonata|45044|\n",
            "|       TOYOTA|     RAV 4| 7527|\n",
            "|       TOYOTA|     Prius| 1882|\n",
            "|MERCEDES-BENZ|    ML 350|  157|\n",
            "|        HONDA|   Insight|   94|\n",
            "|        HONDA|     Civic|56509|\n",
            "|    CHEVROLET|   Lacetti|12861|\n",
            "|       NISSAN|     Tiida| 8624|\n",
            "|    CHEVROLET|     Spark| 3293|\n",
            "|MERCEDES-BENZ|    ML 320|11917|\n",
            "|        HONDA|       FIT|10569|\n",
            "|    SSANGYONG|    Actyon|42171|\n",
            "+-------------+----------+-----+\n",
            "only showing top 20 rows\n",
            "\n"
          ]
        }
      ]
    },
    {
      "cell_type": "code",
      "source": [
        "##number of cars with different fuel types\n",
        "df.groupBy(\"Fuel type\").count().show()"
      ],
      "metadata": {
        "id": "uVVQlnGfK62R",
        "colab": {
          "base_uri": "https://localhost:8080/"
        },
        "outputId": "3a8f6ad0-7529-4c86-ff77-af1ec880f686"
      },
      "execution_count": null,
      "outputs": [
        {
          "output_type": "stream",
          "name": "stdout",
          "text": [
            "+--------------+-----+\n",
            "|     Fuel type|count|\n",
            "+--------------+-----+\n",
            "|        Diesel| 4001|\n",
            "|        Hybrid| 3539|\n",
            "|      Hydrogen|    1|\n",
            "|           CNG|  469|\n",
            "|Plug-in Hybrid|   85|\n",
            "|           LPG|  885|\n",
            "|        Petrol| 9944|\n",
            "+--------------+-----+\n",
            "\n"
          ]
        }
      ]
    },
    {
      "cell_type": "code",
      "source": [
        "#Information on cars which is being manufacturered by KIA motors and Production year is 2010\n",
        "df.select('*')\\\n",
        ".filter(\"Manufacturer == 'KIA'\")\\\n",
        ".filter(\"Prod_year == '2010'\")\\\n",
        ".sort(\"Price\",ascending=True)\\\n",
        ".show()"
      ],
      "metadata": {
        "id": "P-uE-XdYK65F",
        "colab": {
          "base_uri": "https://localhost:8080/"
        },
        "outputId": "56488938-6187-4913-b597-78b5f34460a4"
      },
      "execution_count": null,
      "outputs": [
        {
          "output_type": "stream",
          "name": "stdout",
          "text": [
            "+-----+----+------------+--------+---------+--------+----------------+---------+-------------+---------+-------------+------------+------+----------+------+-------+----------+\n",
            "|Price|Levy|Manufacturer|   Model|Prod_year|Category|Leather_interior|Fuel type|Engine volume|Cylinders|Gear box type|Drive wheels| Doors|     Wheel| Color|Airbags|Mileage_km|\n",
            "+-----+----+------------+--------+---------+--------+----------------+---------+-------------+---------+-------------+------------+------+----------+------+-------+----------+\n",
            "|10506| 683|         KIA|    SOUL|     2010|   Sedan|             Yes|   Petrol|          1.6|      4.0|    Automatic|       Front|04-May|Left wheel| Black|      4|     56864|\n",
            "|11200| 911|         KIA|Carnival|     2010| Minivan|             Yes|   Diesel|          2.2|      4.0|    Automatic|       Front|04-May|Left wheel|Silver|      4|    125000|\n",
            "|15367| 911|         KIA| Sorento|     2010|    Jeep|             Yes|   Diesel|          2.2|      4.0|    Automatic|       Front|04-May|Left wheel|  Grey|      4|     77400|\n",
            "|16308| 911|         KIA| Sorento|     2010|    Jeep|             Yes|   Diesel|          2.2|      4.0|    Automatic|       Front|04-May|Left wheel|  Grey|      4|     74000|\n",
            "|23521|   -|         KIA| Sorento|     2010|    Jeep|             Yes|   Diesel|    2.0 Turbo|      4.0|    Automatic|       Front|04-May|Left wheel|Silver|      4|    178000|\n",
            "|  392| 836|         KIA|  Avella|     2010|   Sedan|             Yes|   Petrol|            2|      4.0|    Automatic|       Front|04-May|Left wheel|  Grey|     12|    271776|\n",
            "|  392| 836|         KIA|  Avella|     2010|   Sedan|             Yes|   Petrol|            2|      4.0|    Automatic|       Front|04-May|Left wheel|  Grey|     12|    271776|\n",
            "| 6269| 461|         KIA| Picanto|     2010|   Sedan|             Yes|   Petrol|            1|      3.0|    Automatic|       Front|04-May|Left wheel| White|      4|     12000|\n",
            "| 7056| 833|         KIA|Sportage|     2010|    Jeep|             Yes|   Diesel|            2|      4.0|    Automatic|       Front|04-May|Left wheel|Silver|      4|     64741|\n",
            "| 7495| 833|         KIA|Sportage|     2010|    Jeep|             Yes|   Diesel|            2|      4.0|    Automatic|       Front|04-May|Left wheel| Black|      4|     58769|\n",
            "+-----+----+------------+--------+---------+--------+----------------+---------+-------------+---------+-------------+------------+------+----------+------+-------+----------+\n",
            "\n"
          ]
        }
      ]
    },
    {
      "cell_type": "code",
      "source": [
        "#Average milage of a different Manufacturer different models\n",
        "df.groupBy(\"Manufacturer\",\"Model\").agg(avg(\"Mileage_km\").alias(\"Average Mileage\")).orderBy(\"Manufacturer\").show(25)"
      ],
      "metadata": {
        "colab": {
          "base_uri": "https://localhost:8080/"
        },
        "id": "h2uoXy5R_sMh",
        "outputId": "61d97711-141a-43d6-d62f-0f9759db9df9"
      },
      "execution_count": null,
      "outputs": [
        {
          "output_type": "stream",
          "name": "stdout",
          "text": [
            "+------------+----------------+------------------+\n",
            "|Manufacturer|           Model|   Average Mileage|\n",
            "+------------+----------------+------------------+\n",
            "|       ACURA|             TSX|         137127.75|\n",
            "|       ACURA|        TL saber|          205502.0|\n",
            "|       ACURA|             MDX|151549.66666666666|\n",
            "|       ACURA|              TL|          221246.5|\n",
            "|       ACURA|             TLX|           76830.5|\n",
            "|       ACURA|             RDX|           27200.0|\n",
            "|  ALFA ROMEO|             147|          240000.0|\n",
            "|  ALFA ROMEO|       Giulietta|           85000.0|\n",
            "|  ALFA ROMEO|             166|          200000.0|\n",
            "|  ALFA ROMEO|             159|          152200.0|\n",
            "|ASTON MARTIN|          Virage|           72000.0|\n",
            "|        AUDI|              A5| 86057.66666666667|\n",
            "|        AUDI|A4 premium plius|          181155.0|\n",
            "|        AUDI|           A4 B7|          226000.0|\n",
            "|        AUDI|              A6|       149238.9375|\n",
            "|        AUDI|              S3|           61410.0|\n",
            "|        AUDI|           A4 B6|          224000.0|\n",
            "|        AUDI|           A4 B5|               0.0|\n",
            "|        AUDI|       Q5 S-line|          139259.0|\n",
            "|        AUDI|           A6 C7|          154000.0|\n",
            "|        AUDI|              S6|          108000.0|\n",
            "|        AUDI|              Q5| 172602.4516129032|\n",
            "|        AUDI|              A4| 154769.9365079365|\n",
            "|        AUDI|      A6 QUATTRO|           79000.0|\n",
            "|        AUDI|     Q5 Prestige|          182011.0|\n",
            "+------------+----------------+------------------+\n",
            "only showing top 25 rows\n",
            "\n"
          ]
        }
      ]
    }
  ]
}